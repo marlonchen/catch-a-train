{
 "cells": [
  {
   "cell_type": "markdown",
   "metadata": {},
   "source": [
    "# Generate fake requests to local instance\n",
    "\n",
    "Start local server\n",
    "* dependencies:\n",
    "```\n",
    "docker compose down && docker compose up --build -d\n",
    "```\n",
    "\n",
    "* API server\n",
    "```\n",
    "cd tests/cli\n",
    "./run.sh\n",
    "```\n"
   ]
  },
  {
   "cell_type": "code",
   "execution_count": 3,
   "metadata": {},
   "outputs": [],
   "source": [
    "import requests\n",
    "\n",
    "def generate_sequential_requests(locations: list[tuple[float, float]]):\n",
    "    \"\"\"\n",
    "    Generate sequential requests for the given locations.\n",
    "    \"\"\"\n",
    "    for location in locations:\n",
    "        requests.get(\n",
    "            f\"http://localhost:8000/nearest_station?lat={location[0]}&lon={location[1]}\",\n",
    "            headers={\n",
    "                \"Content-Type\": \"application/json\",\n",
    "                \"X-API-Key\": \"123\"\n",
    "            }\n",
    "        )"
   ]
  },
  {
   "cell_type": "code",
   "execution_count": 4,
   "metadata": {},
   "outputs": [],
   "source": [
    "import random\n",
    "import math\n",
    "\n",
    "EARTH_RADIUS_MILES = 3958.8  # Earth's radius in miles\n",
    "\n",
    "\n",
    "def _generate_random_location(\n",
    "        center: tuple[float, float],\n",
    "        radius_miles_range: tuple[float, float]\n",
    ") -> tuple[float, float]:\n",
    "    \"\"\"\n",
    "    Generate a random location around the center.\n",
    "    \"\"\"\n",
    "    # Generate random distance within the radius\n",
    "    random_distance_miles = random.uniform(*radius_miles_range)\n",
    "\n",
    "    # Generate random bearing (angle) in radians\n",
    "    random_bearing_rad = 2 * math.pi * random.random()\n",
    "\n",
    "    # Calculate new latitude and longitude\n",
    "    center_lat_rad, center_lon_rad = math.radians(center[0]), math.radians(center[1])\n",
    "\n",
    "    new_lat_rad = math.asin(\n",
    "        math.sin(center_lat_rad) * math.cos(random_distance_miles / EARTH_RADIUS_MILES) +\n",
    "        math.cos(center_lat_rad) * math.sin(random_distance_miles / EARTH_RADIUS_MILES) *\n",
    "        math.cos(random_bearing_rad)\n",
    "    )\n",
    "    new_lon_rad = center_lon_rad + math.atan2(\n",
    "        math.sin(random_bearing_rad) * math.sin(random_distance_miles / EARTH_RADIUS_MILES) *\n",
    "        math.cos(center_lat_rad),\n",
    "        math.cos(random_distance_miles / EARTH_RADIUS_MILES) -\n",
    "        math.sin(center_lat_rad) * math.sin(new_lat_rad)\n",
    "    )\n",
    "    return (math.degrees(new_lat_rad), math.degrees(new_lon_rad))\n",
    "\n",
    "\n",
    "def gerenerate_random_locations(n: int, center: tuple[float, float], radius_miles: float = 10) -> list[tuple[float, float]]:\n",
    "    \"\"\"\n",
    "    Generate n random locations around the center.\n",
    "    \"\"\"\n",
    "    locations = []\n",
    "    for _ in range(n):\n",
    "        locations.append(_generate_random_location(center, (0, radius_miles)))\n",
    "    return locations\n",
    "\n",
    "\n",
    "def generate_random_outliers(n: int, center: tuple[float, float], radius: float = 10) -> list[tuple[float, float]]:\n",
    "    \"\"\"\n",
    "    Generate n random locations far from the center.\n",
    "    \"\"\"\n",
    "    locations = []\n",
    "    for _ in range(n):\n",
    "        locations.append(_generate_random_location(center, (radius, 2 * radius)))\n",
    "    return locations"
   ]
  },
  {
   "cell_type": "code",
   "execution_count": 5,
   "metadata": {},
   "outputs": [],
   "source": [
    "# test 1\n",
    "PHILADELPHIA = (39.9526, -75.1652)\n",
    "locations = gerenerate_random_locations(10, PHILADELPHIA)\n",
    "generate_sequential_requests(locations)\n",
    "\n",
    "# test 2\n",
    "locations = generate_random_outliers(10, PHILADELPHIA, 50)\n",
    "generate_sequential_requests(locations)"
   ]
  }
 ],
 "metadata": {
  "kernelspec": {
   "display_name": "venv",
   "language": "python",
   "name": "python3"
  },
  "language_info": {
   "codemirror_mode": {
    "name": "ipython",
    "version": 3
   },
   "file_extension": ".py",
   "mimetype": "text/x-python",
   "name": "python",
   "nbconvert_exporter": "python",
   "pygments_lexer": "ipython3",
   "version": "3.12.8"
  }
 },
 "nbformat": 4,
 "nbformat_minor": 2
}
